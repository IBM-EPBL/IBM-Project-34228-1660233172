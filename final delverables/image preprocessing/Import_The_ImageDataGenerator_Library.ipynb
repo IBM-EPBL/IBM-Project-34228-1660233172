{
  "nbformat": 4,
  "nbformat_minor": 0,
  "metadata": {
    "colab": {
      "provenance": []
    },
    "kernelspec": {
      "name": "python3",
      "display_name": "Python 3"
    },
    "language_info": {
      "name": "python"
    }
  },
  "cells": [
    {
      "cell_type": "markdown",
      "source": [
        "# **Import The ImageDataGenerator Library**"
      ],
      "metadata": {
        "id": "SWFxSBPNdOon"
      }
    },
    {
      "cell_type": "code",
      "execution_count": 1,
      "metadata": {
        "id": "ZpMNgL1IcKyr"
      },
      "outputs": [],
      "source": [
        "from tensorflow.keras.preprocessing.image import ImageDataGenerator"
      ]
    }
  ]
}