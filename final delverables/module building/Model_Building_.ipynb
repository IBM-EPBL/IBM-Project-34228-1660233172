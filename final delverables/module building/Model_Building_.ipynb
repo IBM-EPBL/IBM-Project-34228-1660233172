{
  "cells": [
    {
      "cell_type": "markdown",
      "metadata": {
        "id": "nvQGYYCNNZCO"
      },
      "source": [
        "## **MODEL BUILDING**"
      ]
    },
    {
      "cell_type": "markdown",
      "source": [
        "## 1. Importing The Model Building Libraries "
      ],
      "metadata": {
        "id": "toIld6jtXWn5"
      }
    },
    {
      "cell_type": "code",
      "execution_count": null,
      "metadata": {
        "id": "ROpU2I1xNdff"
      },
      "outputs": [],
      "source": [
        "import tensorflow as tf\n",
        "from tensorflow.keras.layers import Input, Lambda, Dense, Flatten\n",
        "from tensorflow.keras.models import Model\n",
        "from tensorflow.keras.applications.vgg16 import VGG16\n",
        "from tensorflow.keras.applications.vgg19 import VGG19\n",
        "from tensorflow.keras.preprocessing import image\n",
        "from tensorflow.keras.preprocessing.image import ImageDataGenerator,load_img\n",
        "from tensorflow.keras.models import Sequential\n",
        "import numpy as np\n",
        "from glob import glob"
      ]
    },
    {
      "cell_type": "markdown",
      "metadata": {
        "id": "YeYiGcj-OyFc"
      },
      "source": [
        "## 2. Loading The Model"
      ]
    },
    {
      "cell_type": "code",
      "execution_count": null,
      "metadata": {
        "id": "ajtZEblFOxGq"
      },
      "outputs": [],
      "source": [
        "IMAGE_SIZE = [224, 224]\n",
        "\n",
        "train_path = '/content/drive/MyDrive/IBM - PROJECT/Data set/body-20221023T072112Z-001/body/training'\n",
        "valid_path = '/content/drive/MyDrive/IBM - PROJECT/Data set/body-20221023T072112Z-001/body/validation'"
      ]
    },
    {
      "cell_type": "code",
      "execution_count": null,
      "metadata": {
        "colab": {
          "base_uri": "https://localhost:8080/"
        },
        "id": "Ug7ikOz_PY4B",
        "outputId": "ebb21e91-652c-43fd-ecb8-88fd63430a6c"
      },
      "outputs": [
        {
          "output_type": "stream",
          "name": "stdout",
          "text": [
            "Downloading data from https://storage.googleapis.com/tensorflow/keras-applications/vgg16/vgg16_weights_tf_dim_ordering_tf_kernels_notop.h5\n",
            "58889256/58889256 [==============================] - 0s 0us/step\n"
          ]
        }
      ],
      "source": [
        "vgg16 = VGG16(input_shape=IMAGE_SIZE + [3], weights='imagenet', include_top=False)"
      ]
    },
    {
      "cell_type": "markdown",
      "metadata": {
        "id": "MiGnmx5hPh4Z"
      },
      "source": [
        "## 3. Adding Flatten Layer"
      ]
    },
    {
      "cell_type": "code",
      "execution_count": null,
      "metadata": {
        "id": "xAg7h2HxPlhq"
      },
      "outputs": [],
      "source": [
        "for layer in vgg16.layers:\n",
        "    layer.trainable = False"
      ]
    },
    {
      "cell_type": "code",
      "execution_count": null,
      "metadata": {
        "id": "KkQufWiOPs5N"
      },
      "outputs": [],
      "source": [
        "folders = glob('/content/drive/MyDrive/IBM - PROJECT/Data set/body-20221023T072112Z-001/body/training/*')"
      ]
    },
    {
      "cell_type": "code",
      "execution_count": null,
      "metadata": {
        "colab": {
          "base_uri": "https://localhost:8080/"
        },
        "id": "wKMJgYzKP76F",
        "outputId": "30d31512-c870-4ceb-eaa3-1dd353b5cfce"
      },
      "outputs": [
        {
          "output_type": "execute_result",
          "data": {
            "text/plain": [
              "['/content/drive/MyDrive/IBM - PROJECT/Data set/body-20221023T072112Z-001/body/training/02-side',\n",
              " '/content/drive/MyDrive/IBM - PROJECT/Data set/body-20221023T072112Z-001/body/training/01-rear',\n",
              " '/content/drive/MyDrive/IBM - PROJECT/Data set/body-20221023T072112Z-001/body/training/00-front']"
            ]
          },
          "metadata": {},
          "execution_count": 10
        }
      ],
      "source": [
        "folders"
      ]
    },
    {
      "cell_type": "code",
      "execution_count": null,
      "metadata": {
        "id": "M8Kfjl8JQVXw"
      },
      "outputs": [],
      "source": [
        "x = Flatten()(vgg16.output)"
      ]
    },
    {
      "cell_type": "code",
      "execution_count": null,
      "metadata": {
        "colab": {
          "base_uri": "https://localhost:8080/"
        },
        "id": "7aZjgiAURDVZ",
        "outputId": "7a3a6ddb-ef5b-45c2-bea7-2b4973277592"
      },
      "outputs": [
        {
          "output_type": "execute_result",
          "data": {
            "text/plain": [
              "3"
            ]
          },
          "metadata": {},
          "execution_count": 12
        }
      ],
      "source": [
        "len(folders)"
      ]
    },
    {
      "cell_type": "markdown",
      "metadata": {
        "id": "IxLrq_RiRMrB"
      },
      "source": [
        "## **4. Adding Output Layer**"
      ]
    },
    {
      "cell_type": "code",
      "execution_count": null,
      "metadata": {
        "id": "pUlZpdbjRQKc"
      },
      "outputs": [],
      "source": [
        "prediction = Dense(len(folders), activation='softmax')(x)"
      ]
    },
    {
      "cell_type": "markdown",
      "metadata": {
        "id": "aEOHI7TtRcVl"
      },
      "source": [
        "## **5. Creating A Model Object**"
      ]
    },
    {
      "cell_type": "code",
      "execution_count": null,
      "metadata": {
        "id": "rmfTcklwRee5"
      },
      "outputs": [],
      "source": [
        "model = Model(inputs=vgg16.input, outputs=prediction)"
      ]
    },
    {
      "cell_type": "code",
      "execution_count": null,
      "metadata": {
        "colab": {
          "base_uri": "https://localhost:8080/"
        },
        "id": "5ttf-p41Rjri",
        "outputId": "52a237ee-6bbd-49ca-e59e-f43a47e8c96d"
      },
      "outputs": [
        {
          "output_type": "stream",
          "name": "stdout",
          "text": [
            "Model: \"model\"\n",
            "_________________________________________________________________\n",
            " Layer (type)                Output Shape              Param #   \n",
            "=================================================================\n",
            " input_1 (InputLayer)        [(None, 224, 224, 3)]     0         \n",
            "                                                                 \n",
            " block1_conv1 (Conv2D)       (None, 224, 224, 64)      1792      \n",
            "                                                                 \n",
            " block1_conv2 (Conv2D)       (None, 224, 224, 64)      36928     \n",
            "                                                                 \n",
            " block1_pool (MaxPooling2D)  (None, 112, 112, 64)      0         \n",
            "                                                                 \n",
            " block2_conv1 (Conv2D)       (None, 112, 112, 128)     73856     \n",
            "                                                                 \n",
            " block2_conv2 (Conv2D)       (None, 112, 112, 128)     147584    \n",
            "                                                                 \n",
            " block2_pool (MaxPooling2D)  (None, 56, 56, 128)       0         \n",
            "                                                                 \n",
            " block3_conv1 (Conv2D)       (None, 56, 56, 256)       295168    \n",
            "                                                                 \n",
            " block3_conv2 (Conv2D)       (None, 56, 56, 256)       590080    \n",
            "                                                                 \n",
            " block3_conv3 (Conv2D)       (None, 56, 56, 256)       590080    \n",
            "                                                                 \n",
            " block3_pool (MaxPooling2D)  (None, 28, 28, 256)       0         \n",
            "                                                                 \n",
            " block4_conv1 (Conv2D)       (None, 28, 28, 512)       1180160   \n",
            "                                                                 \n",
            " block4_conv2 (Conv2D)       (None, 28, 28, 512)       2359808   \n",
            "                                                                 \n",
            " block4_conv3 (Conv2D)       (None, 28, 28, 512)       2359808   \n",
            "                                                                 \n",
            " block4_pool (MaxPooling2D)  (None, 14, 14, 512)       0         \n",
            "                                                                 \n",
            " block5_conv1 (Conv2D)       (None, 14, 14, 512)       2359808   \n",
            "                                                                 \n",
            " block5_conv2 (Conv2D)       (None, 14, 14, 512)       2359808   \n",
            "                                                                 \n",
            " block5_conv3 (Conv2D)       (None, 14, 14, 512)       2359808   \n",
            "                                                                 \n",
            " block5_pool (MaxPooling2D)  (None, 7, 7, 512)         0         \n",
            "                                                                 \n",
            " flatten (Flatten)           (None, 25088)             0         \n",
            "                                                                 \n",
            " dense (Dense)               (None, 3)                 75267     \n",
            "                                                                 \n",
            "=================================================================\n",
            "Total params: 14,789,955\n",
            "Trainable params: 75,267\n",
            "Non-trainable params: 14,714,688\n",
            "_________________________________________________________________\n"
          ]
        }
      ],
      "source": [
        "model.summary()"
      ]
    },
    {
      "cell_type": "markdown",
      "metadata": {
        "id": "yNTj7GtvRzcH"
      },
      "source": [
        "## **6. Configure The Learning Process**"
      ]
    },
    {
      "cell_type": "code",
      "execution_count": null,
      "metadata": {
        "id": "30mbTV5aR1FW"
      },
      "outputs": [],
      "source": [
        "model.compile(\n",
        "  loss='categorical_crossentropy',\n",
        "  optimizer='adam',\n",
        "  metrics=['accuracy']\n",
        ")"
      ]
    },
    {
      "cell_type": "markdown",
      "metadata": {
        "id": "UmWGddbTR6kU"
      },
      "source": [
        "## **7. Train The Model**"
      ]
    },
    {
      "cell_type": "code",
      "execution_count": null,
      "metadata": {
        "colab": {
          "base_uri": "https://localhost:8080/"
        },
        "id": "TGniEz4zR7_g",
        "outputId": "777aaa1f-978e-4208-96d2-ebcd93411ad1"
      },
      "outputs": [
        {
          "metadata": {
            "tags": null
          },
          "name": "stderr",
          "output_type": "stream",
          "text": [
            "/usr/local/lib/python3.7/dist-packages/ipykernel_launcher.py:6: UserWarning: `Model.fit_generator` is deprecated and will be removed in a future version. Please use `Model.fit`, which supports generators.\n",
            "  \n"
          ]
        },
        {
          "output_type": "stream",
          "name": "stdout",
          "text": [
            "Epoch 1/25\n",
            "98/98 [==============================] - 560s 6s/step - loss: 1.2275 - accuracy: 0.5383 - val_loss: 0.8698 - val_accuracy: 0.6608\n",
            "Epoch 2/25\n",
            "98/98 [==============================] - 584s 6s/step - loss: 0.7810 - accuracy: 0.7007 - val_loss: 0.8931 - val_accuracy: 0.6491\n",
            "Epoch 3/25\n",
            "98/98 [==============================] - 538s 5s/step - loss: 0.4842 - accuracy: 0.8264 - val_loss: 0.8348 - val_accuracy: 0.6842\n",
            "Epoch 4/25\n",
            "98/98 [==============================] - 537s 5s/step - loss: 0.3813 - accuracy: 0.8560 - val_loss: 0.9010 - val_accuracy: 0.6901\n",
            "Epoch 5/25\n",
            "98/98 [==============================] - 537s 5s/step - loss: 0.2735 - accuracy: 0.8999 - val_loss: 1.0660 - val_accuracy: 0.6901\n",
            "Epoch 6/25\n",
            "98/98 [==============================] - 538s 5s/step - loss: 0.2211 - accuracy: 0.9295 - val_loss: 1.0073 - val_accuracy: 0.7076\n",
            "Epoch 7/25\n",
            "98/98 [==============================] - 536s 5s/step - loss: 0.2163 - accuracy: 0.9224 - val_loss: 0.9560 - val_accuracy: 0.7251\n",
            "Epoch 8/25\n",
            "98/98 [==============================] - 538s 6s/step - loss: 0.1728 - accuracy: 0.9397 - val_loss: 1.0719 - val_accuracy: 0.6491\n",
            "Epoch 9/25\n",
            "98/98 [==============================] - 540s 6s/step - loss: 0.1423 - accuracy: 0.9581 - val_loss: 1.0706 - val_accuracy: 0.6901\n",
            "Epoch 10/25\n",
            "98/98 [==============================] - 539s 6s/step - loss: 0.1118 - accuracy: 0.9704 - val_loss: 1.1651 - val_accuracy: 0.6842\n",
            "Epoch 11/25\n",
            "98/98 [==============================] - 538s 5s/step - loss: 0.0808 - accuracy: 0.9785 - val_loss: 1.1212 - val_accuracy: 0.7076\n",
            "Epoch 12/25\n",
            "98/98 [==============================] - 549s 6s/step - loss: 0.0751 - accuracy: 0.9857 - val_loss: 1.1451 - val_accuracy: 0.6842\n",
            "Epoch 13/25\n",
            "98/98 [==============================] - 555s 6s/step - loss: 0.0730 - accuracy: 0.9816 - val_loss: 1.0812 - val_accuracy: 0.6842\n",
            "Epoch 14/25\n",
            "98/98 [==============================] - 535s 5s/step - loss: 0.1074 - accuracy: 0.9734 - val_loss: 1.2204 - val_accuracy: 0.6842\n",
            "Epoch 15/25\n",
            "98/98 [==============================] - 539s 6s/step - loss: 0.0598 - accuracy: 0.9888 - val_loss: 1.6480 - val_accuracy: 0.6316\n",
            "Epoch 16/25\n",
            "98/98 [==============================] - 543s 6s/step - loss: 0.0810 - accuracy: 0.9806 - val_loss: 1.2050 - val_accuracy: 0.6901\n",
            "Epoch 17/25\n",
            "98/98 [==============================] - 541s 6s/step - loss: 0.1196 - accuracy: 0.9632 - val_loss: 1.3478 - val_accuracy: 0.6374\n",
            "Epoch 18/25\n",
            "98/98 [==============================] - 543s 6s/step - loss: 0.0915 - accuracy: 0.9755 - val_loss: 1.2961 - val_accuracy: 0.7018\n",
            "Epoch 19/25\n",
            "98/98 [==============================] - 544s 6s/step - loss: 0.0687 - accuracy: 0.9806 - val_loss: 1.2175 - val_accuracy: 0.6842\n",
            "Epoch 20/25\n",
            "98/98 [==============================] - 546s 6s/step - loss: 0.0492 - accuracy: 0.9918 - val_loss: 1.3791 - val_accuracy: 0.6784\n",
            "Epoch 21/25\n",
            "98/98 [==============================] - 543s 6s/step - loss: 0.0674 - accuracy: 0.9847 - val_loss: 1.5585 - val_accuracy: 0.6433\n",
            "Epoch 22/25\n",
            "98/98 [==============================] - 537s 5s/step - loss: 0.0740 - accuracy: 0.9775 - val_loss: 1.7693 - val_accuracy: 0.6550\n",
            "Epoch 23/25\n",
            "98/98 [==============================] - 538s 6s/step - loss: 0.0822 - accuracy: 0.9765 - val_loss: 1.9127 - val_accuracy: 0.6374\n",
            "Epoch 24/25\n",
            "98/98 [==============================] - 541s 6s/step - loss: 0.1048 - accuracy: 0.9653 - val_loss: 1.5448 - val_accuracy: 0.6316\n",
            "Epoch 25/25\n",
            "98/98 [==============================] - 544s 6s/step - loss: 0.1373 - accuracy: 0.9551 - val_loss: 1.4574 - val_accuracy: 0.6842\n"
          ]
        }
      ],
      "source": [
        "r = model.fit_generator(\n",
        "  training_set,\n",
        "  validation_data=test_set,\n",
        "  epochs=25,\n",
        "  steps_per_epoch=len(training_set),\n",
        "  validation_steps=len(test_set)\n",
        ")"
      ]
    },
    {
      "cell_type": "markdown",
      "metadata": {
        "id": "JufLw_fpXx_r"
      },
      "source": [
        "## **8. Save The Model**"
      ]
    },
    {
      "cell_type": "code",
      "source": [],
      "metadata": {
        "id": "srlZq1pZoSZK"
      },
      "execution_count": null,
      "outputs": []
    },
    {
      "cell_type": "code",
      "execution_count": null,
      "metadata": {
        "id": "_s2O3JihX3FB"
      },
      "outputs": [],
      "source": [
        "from tensorflow.keras.models import load_model\n",
        "\n",
        "model.save('/content/drive/MyDrive/Intelligent Vehicle Damage Assessment & Cost Estimator For Insurance Companies/Model/body.h5')"
      ]
    },
    {
      "cell_type": "markdown",
      "source": [
        "## **9. Test The Model**"
      ],
      "metadata": {
        "id": "tnu9VCKzo_f4"
      }
    },
    {
      "cell_type": "code",
      "source": [
        "from tensorflow.keras.models import load_model\n",
        "import cv2\n",
        "from skimage.transform import resize"
      ],
      "metadata": {
        "id": "Odx0egOepDgU"
      },
      "execution_count": null,
      "outputs": []
    },
    {
      "cell_type": "code",
      "source": [
        "model = load_model('/content/drive/MyDrive/Intelligent Vehicle Damage Assessment & Cost Estimator For Insurance Companies/Model/body.h5')"
      ],
      "metadata": {
        "id": "QmGjQa0SpISe"
      },
      "execution_count": null,
      "outputs": []
    },
    {
      "cell_type": "code",
      "source": [
        "def detect(frame):\n",
        "  img = cv2.resize(frame,(224,224))\n",
        "  img = cv2.cvtColor(img,cv2.COLOR_BGR2RGB)\n",
        "\n",
        "  if(np.max(img)>1):\n",
        "    img = img/255.0\n",
        "  img = np.array([img])\n",
        "  prediction = model.predict(img)\n",
        "  label = [\"front\",\"rear\",\"side\"]\n",
        "  preds = label[np.argmax(prediction)]\n",
        "  return preds"
      ],
      "metadata": {
        "id": "EFE49iRIpM0u"
      },
      "execution_count": null,
      "outputs": []
    },
    {
      "cell_type": "code",
      "source": [
        "import numpy as np"
      ],
      "metadata": {
        "id": "6FlRMTs0peYW"
      },
      "execution_count": null,
      "outputs": []
    },
    {
      "cell_type": "code",
      "source": [
        "data = \"/content/drive/MyDrive/IBM - PROJECT/Data set/body-20221023T072112Z-001/body/training/00-front/0008.jpeg\"\n",
        "image = cv2.imread(data)\n",
        "print(detect(image))"
      ],
      "metadata": {
        "colab": {
          "base_uri": "https://localhost:8080/"
        },
        "id": "IaeSdVQHpjzj",
        "outputId": "17e4f0bf-3548-48fa-d970-7d1cdc94164f"
      },
      "execution_count": null,
      "outputs": [
        {
          "output_type": "stream",
          "name": "stdout",
          "text": [
            "1/1 [==============================] - 0s 498ms/step\n",
            "front\n"
          ]
        }
      ]
    },
    {
      "cell_type": "markdown",
      "source": [
        "## **FOR LEVEL DAMAGE**"
      ],
      "metadata": {
        "id": "mNLYUqtMsQSV"
      }
    },
    {
      "cell_type": "markdown",
      "source": [
        "## **IMAGE PRE PROCESSING**\n"
      ],
      "metadata": {
        "id": "qvdRwwY0sUPl"
      }
    },
    {
      "cell_type": "markdown",
      "source": [
        "\n",
        "## **1. Import The ImageDataGenerator Library**"
      ],
      "metadata": {
        "id": "Fc-zB87hsgQX"
      }
    },
    {
      "cell_type": "code",
      "source": [
        "from tensorflow.keras.preprocessing.image import ImageDataGenerator"
      ],
      "metadata": {
        "id": "VXTF1J3AsVJ7"
      },
      "execution_count": null,
      "outputs": []
    },
    {
      "cell_type": "markdown",
      "source": [
        "## **2. Configure ImageDataGenerator Class**"
      ],
      "metadata": {
        "id": "fpPagxX2scCY"
      }
    },
    {
      "cell_type": "code",
      "source": [
        "train_datagen = ImageDataGenerator(rescale = 1./255,\n",
        "                                   shear_range = 0.1,\n",
        "                                   zoom_range = 0.1,\n",
        "                                   horizontal_flip = True)\n",
        "\n",
        "test_datagen = ImageDataGenerator(rescale = 1./255)"
      ],
      "metadata": {
        "id": "VZE4lM0Wslfd"
      },
      "execution_count": null,
      "outputs": []
    },
    {
      "cell_type": "markdown",
      "source": [
        "## **3. Apply ImageDataGenerator Functionality To Trainset And Testset**"
      ],
      "metadata": {
        "id": "VNEF9a24sp1N"
      }
    },
    {
      "cell_type": "code",
      "source": [
        "training_set = train_datagen.flow_from_directory('/content/drive/MyDrive/IBM - PROJECT/Data set/level-20221023T072121Z-001/level/training',\n",
        "                                                 target_size = (224, 224),\n",
        "                                                 batch_size = 10,\n",
        "                                                 class_mode = 'categorical')\n",
        "test_set = test_datagen.flow_from_directory('/content/drive/MyDrive/IBM - PROJECT/Data set/level-20221023T072121Z-001/level/validation',\n",
        "                                            target_size = (224, 224),\n",
        "                                            batch_size = 10,\n",
        "                                            class_mode = 'categorical')"
      ],
      "metadata": {
        "colab": {
          "base_uri": "https://localhost:8080/"
        },
        "id": "owZTbHSdssQc",
        "outputId": "85ff4e0c-abb7-4655-9f97-837fa21db567"
      },
      "execution_count": null,
      "outputs": [
        {
          "output_type": "stream",
          "name": "stdout",
          "text": [
            "Found 979 images belonging to 3 classes.\n",
            "Found 171 images belonging to 3 classes.\n"
          ]
        }
      ]
    },
    {
      "cell_type": "markdown",
      "source": [
        "## **MODEL BUILDING**"
      ],
      "metadata": {
        "id": "KS8AqMz1tC1H"
      }
    },
    {
      "cell_type": "markdown",
      "source": [
        "## **1. Importing The Model Building Libraries**\n",
        "\n",
        "\n",
        "\n"
      ],
      "metadata": {
        "id": "wh2m92mjtDfw"
      }
    },
    {
      "cell_type": "code",
      "source": [
        "import tensorflow as tf\n",
        "from tensorflow.keras.layers import Input, Lambda, Dense, Flatten\n",
        "from tensorflow.keras.models import Model\n",
        "from tensorflow.keras.applications.vgg16 import VGG16\n",
        "from tensorflow.keras.applications.vgg19 import VGG19\n",
        "from tensorflow.keras.preprocessing import image\n",
        "from tensorflow.keras.preprocessing.image import ImageDataGenerator,load_img\n",
        "from tensorflow.keras.models import Sequential\n",
        "import numpy as np\n",
        "from glob import glob"
      ],
      "metadata": {
        "id": "LM4DK8V2tGQF"
      },
      "execution_count": null,
      "outputs": []
    },
    {
      "cell_type": "markdown",
      "source": [
        "# **2. Loading The Model**"
      ],
      "metadata": {
        "id": "2XRzh_wgtK8I"
      }
    },
    {
      "cell_type": "code",
      "source": [
        "IMAGE_SIZE = [224, 224]\n",
        "\n",
        "train_path = '/content/drive/MyDrive/IBM - PROJECT/Data set/level-20221023T072121Z-001/level/training'\n",
        "valid_path = '/content/drive/MyDrive/IBM - PROJECT/Data set/level-20221023T072121Z-001/level/validation'"
      ],
      "metadata": {
        "id": "KIYbSyvhtNe8"
      },
      "execution_count": null,
      "outputs": []
    },
    {
      "cell_type": "code",
      "source": [
        "vgg16 = VGG16(input_shape=IMAGE_SIZE + [3], weights='imagenet', include_top=False)"
      ],
      "metadata": {
        "colab": {
          "base_uri": "https://localhost:8080/"
        },
        "id": "Nq98SpG-tYB6",
        "outputId": "eabe5e2d-aebd-4fde-a33c-3d52cb13c404"
      },
      "execution_count": null,
      "outputs": [
        {
          "output_type": "stream",
          "name": "stdout",
          "text": [
            "Downloading data from https://storage.googleapis.com/tensorflow/keras-applications/vgg16/vgg16_weights_tf_dim_ordering_tf_kernels_notop.h5\n",
            "58889256/58889256 [==============================] - 0s 0us/step\n"
          ]
        }
      ]
    },
    {
      "cell_type": "markdown",
      "source": [
        "## **3. Adding Flatten Layer**"
      ],
      "metadata": {
        "id": "WRP4GbjVtbUG"
      }
    },
    {
      "cell_type": "code",
      "source": [
        "for layer in vgg16.layers:\n",
        "    layer.trainable = False"
      ],
      "metadata": {
        "id": "o16jq-u1tdab"
      },
      "execution_count": null,
      "outputs": []
    },
    {
      "cell_type": "code",
      "source": [
        "folders = glob('/content/drive/MyDrive/IBM - PROJECT/Data set/level-20221023T072121Z-001/level/training/*')"
      ],
      "metadata": {
        "id": "JXIJiexLtiIS"
      },
      "execution_count": null,
      "outputs": []
    },
    {
      "cell_type": "code",
      "source": [
        "folders"
      ],
      "metadata": {
        "colab": {
          "base_uri": "https://localhost:8080/"
        },
        "id": "rcIfwLO6tzkK",
        "outputId": "1b31d2d2-fd05-4030-bf07-30cf05336491"
      },
      "execution_count": null,
      "outputs": [
        {
          "output_type": "execute_result",
          "data": {
            "text/plain": [
              "['/content/drive/MyDrive/IBM - PROJECT/Data set/level-20221023T072121Z-001/level/training/03-severe',\n",
              " '/content/drive/MyDrive/IBM - PROJECT/Data set/level-20221023T072121Z-001/level/training/02-moderate',\n",
              " '/content/drive/MyDrive/IBM - PROJECT/Data set/level-20221023T072121Z-001/level/training/01-minor']"
            ]
          },
          "metadata": {},
          "execution_count": 12
        }
      ]
    },
    {
      "cell_type": "code",
      "source": [
        "x = Flatten()(vgg16.output)"
      ],
      "metadata": {
        "id": "MXZHKhUMuI44"
      },
      "execution_count": null,
      "outputs": []
    },
    {
      "cell_type": "code",
      "source": [
        "len(folders)"
      ],
      "metadata": {
        "colab": {
          "base_uri": "https://localhost:8080/"
        },
        "id": "yIQIw1FWuLwT",
        "outputId": "5d0956bc-0638-4502-d011-2cc7982c22c7"
      },
      "execution_count": null,
      "outputs": [
        {
          "output_type": "execute_result",
          "data": {
            "text/plain": [
              "3"
            ]
          },
          "metadata": {},
          "execution_count": 14
        }
      ]
    },
    {
      "cell_type": "markdown",
      "source": [
        "## **4. Adding Output Layer**"
      ],
      "metadata": {
        "id": "vbM97lsOuN4o"
      }
    },
    {
      "cell_type": "code",
      "source": [
        "prediction = Dense(len(folders), activation='softmax')(x)"
      ],
      "metadata": {
        "id": "caqizDj6uOq1"
      },
      "execution_count": null,
      "outputs": []
    },
    {
      "cell_type": "markdown",
      "source": [
        "## **5. Creating A Model Object**"
      ],
      "metadata": {
        "id": "l-LXBlOjuTBz"
      }
    },
    {
      "cell_type": "code",
      "source": [
        "model = Model(inputs=vgg16.input, outputs=prediction)"
      ],
      "metadata": {
        "id": "VAS9RLPmuT2B"
      },
      "execution_count": null,
      "outputs": []
    },
    {
      "cell_type": "code",
      "source": [
        "model.summary()"
      ],
      "metadata": {
        "colab": {
          "base_uri": "https://localhost:8080/"
        },
        "id": "CrUvke4zuXvg",
        "outputId": "21e102db-b57b-4ccd-c145-48d49a176f1e"
      },
      "execution_count": null,
      "outputs": [
        {
          "output_type": "stream",
          "name": "stdout",
          "text": [
            "Model: \"model\"\n",
            "_________________________________________________________________\n",
            " Layer (type)                Output Shape              Param #   \n",
            "=================================================================\n",
            " input_1 (InputLayer)        [(None, 224, 224, 3)]     0         \n",
            "                                                                 \n",
            " block1_conv1 (Conv2D)       (None, 224, 224, 64)      1792      \n",
            "                                                                 \n",
            " block1_conv2 (Conv2D)       (None, 224, 224, 64)      36928     \n",
            "                                                                 \n",
            " block1_pool (MaxPooling2D)  (None, 112, 112, 64)      0         \n",
            "                                                                 \n",
            " block2_conv1 (Conv2D)       (None, 112, 112, 128)     73856     \n",
            "                                                                 \n",
            " block2_conv2 (Conv2D)       (None, 112, 112, 128)     147584    \n",
            "                                                                 \n",
            " block2_pool (MaxPooling2D)  (None, 56, 56, 128)       0         \n",
            "                                                                 \n",
            " block3_conv1 (Conv2D)       (None, 56, 56, 256)       295168    \n",
            "                                                                 \n",
            " block3_conv2 (Conv2D)       (None, 56, 56, 256)       590080    \n",
            "                                                                 \n",
            " block3_conv3 (Conv2D)       (None, 56, 56, 256)       590080    \n",
            "                                                                 \n",
            " block3_pool (MaxPooling2D)  (None, 28, 28, 256)       0         \n",
            "                                                                 \n",
            " block4_conv1 (Conv2D)       (None, 28, 28, 512)       1180160   \n",
            "                                                                 \n",
            " block4_conv2 (Conv2D)       (None, 28, 28, 512)       2359808   \n",
            "                                                                 \n",
            " block4_conv3 (Conv2D)       (None, 28, 28, 512)       2359808   \n",
            "                                                                 \n",
            " block4_pool (MaxPooling2D)  (None, 14, 14, 512)       0         \n",
            "                                                                 \n",
            " block5_conv1 (Conv2D)       (None, 14, 14, 512)       2359808   \n",
            "                                                                 \n",
            " block5_conv2 (Conv2D)       (None, 14, 14, 512)       2359808   \n",
            "                                                                 \n",
            " block5_conv3 (Conv2D)       (None, 14, 14, 512)       2359808   \n",
            "                                                                 \n",
            " block5_pool (MaxPooling2D)  (None, 7, 7, 512)         0         \n",
            "                                                                 \n",
            " flatten (Flatten)           (None, 25088)             0         \n",
            "                                                                 \n",
            " dense (Dense)               (None, 3)                 75267     \n",
            "                                                                 \n",
            "=================================================================\n",
            "Total params: 14,789,955\n",
            "Trainable params: 75,267\n",
            "Non-trainable params: 14,714,688\n",
            "_________________________________________________________________\n"
          ]
        }
      ]
    },
    {
      "cell_type": "markdown",
      "source": [
        "## **6. Configure The Learning Process**"
      ],
      "metadata": {
        "id": "-PKN5UB2ueKb"
      }
    },
    {
      "cell_type": "code",
      "source": [
        "model.compile(\n",
        "  loss='categorical_crossentropy',\n",
        "  optimizer='adam',\n",
        "  metrics=['accuracy']\n",
        ")"
      ],
      "metadata": {
        "id": "nANFHQSyufE2"
      },
      "execution_count": null,
      "outputs": []
    },
    {
      "cell_type": "markdown",
      "source": [
        "\n",
        "## **7. Train The Model**"
      ],
      "metadata": {
        "id": "Gv9-sTGDuiix"
      }
    },
    {
      "cell_type": "code",
      "source": [
        "r = model.fit_generator(\n",
        "  training_set,\n",
        "  validation_data=test_set,\n",
        "  epochs=25,\n",
        "  steps_per_epoch=len(training_set),\n",
        "  validation_steps=len(test_set)\n",
        ")"
      ],
      "metadata": {
        "colab": {
          "base_uri": "https://localhost:8080/"
        },
        "id": "cHy4BoZYujJF",
        "outputId": "180a1a08-d4f4-48d8-a185-5bad0cbb4aa3"
      },
      "execution_count": null,
      "outputs": [
        {
          "metadata": {
            "tags": null
          },
          "name": "stderr",
          "output_type": "stream",
          "text": [
            "/usr/local/lib/python3.7/dist-packages/ipykernel_launcher.py:6: UserWarning: `Model.fit_generator` is deprecated and will be removed in a future version. Please use `Model.fit`, which supports generators.\n",
            "  \n"
          ]
        },
        {
          "output_type": "stream",
          "name": "stdout",
          "text": [
            "Epoch 1/25\n",
            "98/98 [==============================] - 606s 6s/step - loss: 1.1697 - accuracy: 0.5608 - val_loss: 0.9855 - val_accuracy: 0.6140\n",
            "Epoch 2/25\n",
            "98/98 [==============================] - 596s 6s/step - loss: 0.7030 - accuracy: 0.7099 - val_loss: 0.9670 - val_accuracy: 0.6199\n",
            "Epoch 3/25\n",
            "98/98 [==============================] - 594s 6s/step - loss: 0.4431 - accuracy: 0.8202 - val_loss: 1.0758 - val_accuracy: 0.5965\n",
            "Epoch 4/25\n",
            "98/98 [==============================] - 592s 6s/step - loss: 0.3887 - accuracy: 0.8570 - val_loss: 1.0519 - val_accuracy: 0.6257\n",
            "Epoch 5/25\n",
            "98/98 [==============================] - 592s 6s/step - loss: 0.3058 - accuracy: 0.8856 - val_loss: 1.5903 - val_accuracy: 0.6140\n",
            "Epoch 6/25\n",
            "98/98 [==============================] - 596s 6s/step - loss: 0.2978 - accuracy: 0.9019 - val_loss: 1.1763 - val_accuracy: 0.6140\n",
            "Epoch 7/25\n",
            "98/98 [==============================] - 598s 6s/step - loss: 0.2060 - accuracy: 0.9295 - val_loss: 1.2846 - val_accuracy: 0.6082\n",
            "Epoch 8/25\n",
            "98/98 [==============================] - 596s 6s/step - loss: 0.1685 - accuracy: 0.9387 - val_loss: 1.1337 - val_accuracy: 0.6023\n",
            "Epoch 9/25\n",
            "98/98 [==============================] - 595s 6s/step - loss: 0.1926 - accuracy: 0.9305 - val_loss: 1.1559 - val_accuracy: 0.6725\n",
            "Epoch 10/25\n",
            "98/98 [==============================] - 594s 6s/step - loss: 0.1206 - accuracy: 0.9653 - val_loss: 1.2013 - val_accuracy: 0.6433\n",
            "Epoch 11/25\n",
            "98/98 [==============================] - 595s 6s/step - loss: 0.1151 - accuracy: 0.9663 - val_loss: 1.2582 - val_accuracy: 0.6023\n",
            "Epoch 12/25\n",
            "98/98 [==============================] - 595s 6s/step - loss: 0.0615 - accuracy: 0.9857 - val_loss: 1.1696 - val_accuracy: 0.6608\n",
            "Epoch 13/25\n",
            "98/98 [==============================] - 597s 6s/step - loss: 0.0659 - accuracy: 0.9837 - val_loss: 1.1735 - val_accuracy: 0.6374\n",
            "Epoch 14/25\n",
            "98/98 [==============================] - 597s 6s/step - loss: 0.0417 - accuracy: 0.9939 - val_loss: 1.1479 - val_accuracy: 0.6433\n",
            "Epoch 15/25\n",
            "98/98 [==============================] - 597s 6s/step - loss: 0.0504 - accuracy: 0.9898 - val_loss: 1.5237 - val_accuracy: 0.5673\n",
            "Epoch 16/25\n",
            "98/98 [==============================] - 596s 6s/step - loss: 0.0437 - accuracy: 0.9888 - val_loss: 1.4307 - val_accuracy: 0.6140\n",
            "Epoch 17/25\n",
            "98/98 [==============================] - 602s 6s/step - loss: 0.0428 - accuracy: 0.9877 - val_loss: 1.2403 - val_accuracy: 0.6433\n",
            "Epoch 18/25\n",
            "98/98 [==============================] - 605s 6s/step - loss: 0.0359 - accuracy: 0.9949 - val_loss: 1.3156 - val_accuracy: 0.6433\n",
            "Epoch 19/25\n",
            "98/98 [==============================] - 598s 6s/step - loss: 0.0289 - accuracy: 0.9959 - val_loss: 1.4142 - val_accuracy: 0.6140\n",
            "Epoch 20/25\n",
            "98/98 [==============================] - 594s 6s/step - loss: 0.0256 - accuracy: 0.9980 - val_loss: 1.3567 - val_accuracy: 0.6316\n",
            "Epoch 21/25\n",
            "98/98 [==============================] - 598s 6s/step - loss: 0.0248 - accuracy: 0.9990 - val_loss: 1.3492 - val_accuracy: 0.6257\n",
            "Epoch 22/25\n",
            "98/98 [==============================] - 596s 6s/step - loss: 0.0222 - accuracy: 1.0000 - val_loss: 1.3326 - val_accuracy: 0.6491\n",
            "Epoch 23/25\n",
            "98/98 [==============================] - 597s 6s/step - loss: 0.0137 - accuracy: 0.9990 - val_loss: 1.4157 - val_accuracy: 0.6199\n",
            "Epoch 24/25\n",
            "98/98 [==============================] - 595s 6s/step - loss: 0.0398 - accuracy: 0.9888 - val_loss: 1.4562 - val_accuracy: 0.6257\n",
            "Epoch 25/25\n",
            "98/98 [==============================] - 597s 6s/step - loss: 0.0292 - accuracy: 0.9939 - val_loss: 1.5857 - val_accuracy: 0.5965\n"
          ]
        }
      ]
    },
    {
      "cell_type": "markdown",
      "source": [
        "## **8. Save The Model**"
      ],
      "metadata": {
        "id": "bBnU3OiZpVw8"
      }
    },
    {
      "cell_type": "code",
      "source": [
        "from tensorflow.keras.models import load_model\n",
        "\n",
        "model.save('/content/drive/MyDrive/Intelligent Vehicle Damage Assessment & Cost Estimator For Insurance Companies/Model/level.h5')"
      ],
      "metadata": {
        "id": "f-iQTGqepXVB"
      },
      "execution_count": null,
      "outputs": []
    },
    {
      "cell_type": "markdown",
      "source": [
        "## **9. Test The Model**"
      ],
      "metadata": {
        "id": "MNcJa5MEp1iC"
      }
    },
    {
      "cell_type": "code",
      "source": [
        "from tensorflow.keras.models import load_model\n",
        "import cv2\n",
        "from skimage.transform import resize"
      ],
      "metadata": {
        "id": "MMsvQhfip0A3"
      },
      "execution_count": null,
      "outputs": []
    },
    {
      "cell_type": "code",
      "source": [
        "\n",
        "model = load_model('/content/drive/MyDrive/Intelligent Vehicle Damage Assessment & Cost Estimator For Insurance Companies/Model/level.h5')"
      ],
      "metadata": {
        "id": "wSFrG-qvp4GD"
      },
      "execution_count": null,
      "outputs": []
    },
    {
      "cell_type": "code",
      "source": [
        "def detect(frame):\n",
        "  img = cv2.resize(frame,(224,224))\n",
        "  img = cv2.cvtColor(img,cv2.COLOR_BGR2RGB)\n",
        "\n",
        "  if(np.max(img)>1):\n",
        "    img = img/255.0\n",
        "  img = np.array([img])\n",
        "  prediction = model.predict(img)\n",
        "  label = [\"minor\",\"moderate\",\"severe\"]\n",
        "  preds = label[np.argmax(prediction)]\n",
        "  return preds"
      ],
      "metadata": {
        "id": "SVfrmSh3qNxo"
      },
      "execution_count": null,
      "outputs": []
    },
    {
      "cell_type": "code",
      "source": [
        "import numpy as np"
      ],
      "metadata": {
        "id": "hGddgTU4qRFM"
      },
      "execution_count": null,
      "outputs": []
    },
    {
      "cell_type": "code",
      "source": [
        "data = \"/content/drive/MyDrive/IBM - PROJECT/Data set/level-20221023T072121Z-001/level/validation/01-minor/0008.jpeg\"\n",
        "image = cv2.imread(data)\n",
        "print(detect(image))"
      ],
      "metadata": {
        "colab": {
          "base_uri": "https://localhost:8080/"
        },
        "id": "pvW1ajZyqYk7",
        "outputId": "00745e94-f412-4003-ff3a-1b3792be58c0"
      },
      "execution_count": null,
      "outputs": [
        {
          "output_type": "stream",
          "name": "stdout",
          "text": [
            "1/1 [==============================] - 1s 674ms/step\n",
            "minor\n"
          ]
        }
      ]
    }
  ],
  "metadata": {
    "colab": {
      "collapsed_sections": [
        "nvQGYYCNNZCO",
        "mNLYUqtMsQSV",
        "qvdRwwY0sUPl",
        "KS8AqMz1tC1H"
      ],
      "provenance": []
    },
    "kernelspec": {
      "display_name": "Python 3",
      "name": "python3"
    },
    "language_info": {
      "name": "python"
    }
  },
  "nbformat": 4,
  "nbformat_minor": 0
}