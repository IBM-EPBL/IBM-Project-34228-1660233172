{
  "nbformat": 4,
  "nbformat_minor": 0,
  "metadata": {
    "colab": {
      "provenance": []
    },
    "kernelspec": {
      "name": "python3",
      "display_name": "Python 3"
    },
    "language_info": {
      "name": "python"
    }
  },
  "cells": [
    {
      "cell_type": "markdown",
      "source": [
        "## **Import Libraries**"
      ],
      "metadata": {
        "id": "rWxNN1ZD7Rzf"
      }
    },
    {
      "cell_type": "code",
      "execution_count": 1,
      "metadata": {
        "id": "TB7ZxXIJK5gV"
      },
      "outputs": [],
      "source": [
        "from tensorflow.keras.layers import Dense,Flatten,Input\n",
        "from tensorflow.keras.models import Model\n",
        "from tensorflow.keras.preprocessing import image \n",
        "from tensorflow.keras.preprocessing.image import ImageDataGenerator,load_img\n",
        "from tensorflow.keras.applications.vgg16 import VGG16,preprocess_input\n",
        "from glob import glob\n",
        "import numpy as np\n",
        "import matplotlib.pyplot as plt\n",
        "from tensorflow.keras.preprocessing.image import ImageDataGenerator\n",
        "import sys\n",
        "from tensorflow.keras.models import load_model\n",
        "import cv2\n",
        "from skimage.transform import resize"
      ]
    },
    {
      "cell_type": "markdown",
      "source": [
        "## **Unzipping Dataset**"
      ],
      "metadata": {
        "id": "GEhmrgzG7gnp"
      }
    },
    {
      "cell_type": "code",
      "source": [
        "from io import BytesIO\n",
        "import zipfile\n",
        "unzip = zipfile.ZipFile(BytesIO(streaming_body_1.read()), 'r')\n",
        "file_paths = unzip.namelist()\n",
        "for path in file_paths:\n",
        "    unzip.extract(path)\n",
        "    "
      ],
      "metadata": {
        "id": "Dfb8mAX2AucT"
      },
      "execution_count": null,
      "outputs": []
    },
    {
      "cell_type": "code",
      "source": [
        "import os\n",
        "os.listdir('.')"
      ],
      "metadata": {
        "id": "966vkTgWAz02"
      },
      "execution_count": null,
      "outputs": []
    },
    {
      "cell_type": "code",
      "source": [
        "train_datagen = ImageDataGenerator(rescale=1./255,shear_range=0.1,zoom_range=0.1,horizontal_flip=True)\n",
        "val_datagen = ImageDataGenerator(rescale=1./255)"
      ],
      "metadata": {
        "id": "dbVHAPqzA3Jp"
      },
      "execution_count": null,
      "outputs": []
    },
    {
      "cell_type": "markdown",
      "source": [
        "## **MODEL FOR BODY TYPE DETECTION**"
      ],
      "metadata": {
        "id": "_GCuz3JMA6i7"
      }
    },
    {
      "cell_type": "code",
      "source": [
        "trainPath = '/home/wsuser/work/Dataset/body/training'\n",
        "testPath = '/home/wsuser/work/Dataset/body/validation'"
      ],
      "metadata": {
        "id": "eDKH03AbA-2W"
      },
      "execution_count": null,
      "outputs": []
    },
    {
      "cell_type": "code",
      "source": [
        "\n",
        "training_set = train_datagen.flow_from_directory(trainPath,target_size=(244,244),batch_size=10,class_mode='categorical')\n",
        "test_set = train_datagen.flow_from_directory(testPath,target_size=(244,244),batch_size=10,class_mode='categorical')"
      ],
      "metadata": {
        "id": "gUfpXA6RBCkn"
      },
      "execution_count": null,
      "outputs": []
    },
    {
      "cell_type": "code",
      "source": [
        "training_set.class_indices"
      ],
      "metadata": {
        "id": "0fv8aBQ2BEvW"
      },
      "execution_count": null,
      "outputs": []
    },
    {
      "cell_type": "markdown",
      "source": [
        "## **Declaring Model Variable**"
      ],
      "metadata": {
        "id": "KP9yUf9fBHXl"
      }
    },
    {
      "cell_type": "code",
      "source": [
        "vgg=VGG16(input_shape=(244,244,3),weights='imagenet',include_top=False)\n",
        "\n",
        "\n",
        "\n",
        "for layer in vgg.layers:\n",
        "  layer.trainable=False\n",
        "\n",
        "\n",
        "x=Flatten()(vgg.output)\n",
        "\n",
        "\n",
        "prediction=Dense(3,activation='softmax')(x)\n",
        "\n",
        "\n",
        "model=Model(inputs=vgg.input,outputs=prediction)\n",
        "model.summary()"
      ],
      "metadata": {
        "id": "cnOF8-nXBP_v"
      },
      "execution_count": null,
      "outputs": []
    },
    {
      "cell_type": "markdown",
      "source": [
        "\n",
        "## **Compiling the Model**"
      ],
      "metadata": {
        "id": "qPoTDDpwBUQ8"
      }
    },
    {
      "cell_type": "code",
      "source": [
        "model.compile(loss='categorical_crossentropy',optimizer='adam',metrics=['acc'])"
      ],
      "metadata": {
        "id": "__KsBC_XBWPj"
      },
      "execution_count": null,
      "outputs": []
    },
    {
      "cell_type": "markdown",
      "source": [
        "## **Training model**"
      ],
      "metadata": {
        "id": "DkEvBRcxBh5i"
      }
    },
    {
      "cell_type": "code",
      "source": [
        "r = model.fit_generator(\n",
        "    training_set,\n",
        "    validation_data = test_set,\n",
        "    epochs = 25,\n",
        "    steps_per_epoch=979//10,\n",
        "    validation_steps = 171//10\n",
        ")"
      ],
      "metadata": {
        "id": "hb734ysXBa6I"
      },
      "execution_count": null,
      "outputs": []
    },
    {
      "cell_type": "code",
      "source": [
        "model.save('body.h5')"
      ],
      "metadata": {
        "id": "8uFBQOIqBq6D"
      },
      "execution_count": null,
      "outputs": []
    },
    {
      "cell_type": "code",
      "source": [
        "!tar -zcvf body.tgz body.h5"
      ],
      "metadata": {
        "id": "qw2X9z67Bt7G"
      },
      "execution_count": null,
      "outputs": []
    },
    {
      "cell_type": "code",
      "source": [
        "ls -1 "
      ],
      "metadata": {
        "id": "icHTlNzWBwe0"
      },
      "execution_count": null,
      "outputs": []
    },
    {
      "cell_type": "code",
      "source": [
        "!pip install watson-machine-learning-client --upgrade"
      ],
      "metadata": {
        "id": "BR1Yo1M7B3DU"
      },
      "execution_count": null,
      "outputs": []
    },
    {
      "cell_type": "markdown",
      "source": [
        "## **Connecting with IBM CLOUD**"
      ],
      "metadata": {
        "id": "Zf8LEE7hB6W-"
      }
    },
    {
      "cell_type": "code",
      "source": [
        "from ibm_watson_machine_learning import APIClient\n",
        "wml_credentials = {\"url\":\"https://us-south.ml.cloud.ibm.com\", \"apikey\":\"apikey\"}\n",
        "client = APIClient(wml_credentials)"
      ],
      "metadata": {
        "id": "xZntGaXLB-hh"
      },
      "execution_count": null,
      "outputs": []
    },
    {
      "cell_type": "code",
      "source": [
        "def guid_from_space_name(client,space_name):\n",
        "    space = client.spaces.get_details()\n",
        "    return(next(item for item in space['resources'] if item['entity'][\"name\"]==space_name)['metadata']['id'])"
      ],
      "metadata": {
        "id": "0VFzwcSBCD2x"
      },
      "execution_count": null,
      "outputs": []
    },
    {
      "cell_type": "code",
      "source": [
        "space_uid = guid_from_space_name(client, 'spacename')\n",
        "#space_uid"
      ],
      "metadata": {
        "id": "J7Wvg1uNCIDr"
      },
      "execution_count": null,
      "outputs": []
    },
    {
      "cell_type": "code",
      "source": [
        "client.set.default_space(space_uid)"
      ],
      "metadata": {
        "id": "rrh4e-M1COVv"
      },
      "execution_count": null,
      "outputs": []
    },
    {
      "cell_type": "code",
      "source": [
        "software_spec_uid = client.software_specifications.get_uid_by_name(\"tensorflow_rt22.1-py3.9\")\n",
        "#software_spec_uid"
      ],
      "metadata": {
        "id": "-ZPADfyRCRvS"
      },
      "execution_count": null,
      "outputs": []
    },
    {
      "cell_type": "code",
      "source": [
        "client.software_specifications.list()"
      ],
      "metadata": {
        "id": "26anLNO3CUJy"
      },
      "execution_count": null,
      "outputs": []
    },
    {
      "cell_type": "code",
      "source": [
        "model_details = client.repository.store_model(model = 'body.tgz' , meta_props = {\n",
        "    client.repository.ModelMetaNames.NAME : \"body\", \n",
        "    client.repository.ModelMetaNames.TYPE : \"tensorflow_rt22.1\",\n",
        "    client.repository.ModelMetaNames.SOFTWARE_SPEC_UID: software_spec_uid\n",
        "})\n",
        "model_id = client.repository.get_model_id(model_details)"
      ],
      "metadata": {
        "id": "6-mT_T2ZCYlu"
      },
      "execution_count": null,
      "outputs": []
    },
    {
      "cell_type": "code",
      "source": [
        "client.repository.download(model_id, 'body_cloud.tar.gz')"
      ],
      "metadata": {
        "id": "NpwpagfeCbNV"
      },
      "execution_count": null,
      "outputs": []
    },
    {
      "cell_type": "code",
      "source": [
        "model_body = load_model('body.h5')"
      ],
      "metadata": {
        "id": "VIjPGd34CduY"
      },
      "execution_count": null,
      "outputs": []
    },
    {
      "cell_type": "markdown",
      "source": [
        "## **MODEL FOR LEVEL TYPE DETECTION**"
      ],
      "metadata": {
        "id": "oDvgg-SdChfA"
      }
    },
    {
      "cell_type": "code",
      "source": [
        "trainPath = '/home/wsuser/work/Dataset/level/training'\n",
        "testPath = '/home/wsuser/work/Dataset/level/validation'"
      ],
      "metadata": {
        "id": "PekywdjNCg2q"
      },
      "execution_count": null,
      "outputs": []
    },
    {
      "cell_type": "code",
      "source": [
        "\n",
        "training_set = train_datagen.flow_from_directory(trainPath,target_size=(244,244),batch_size=10,class_mode='categorical')\n",
        "test_set = train_datagen.flow_from_directory(testPath,target_size=(244,244),batch_size=10,class_mode='categorical')"
      ],
      "metadata": {
        "id": "_KwAvG2mCqPc"
      },
      "execution_count": null,
      "outputs": []
    },
    {
      "cell_type": "code",
      "source": [
        "training_set.class_indices"
      ],
      "metadata": {
        "id": "17tTkHp4Ct08"
      },
      "execution_count": null,
      "outputs": []
    },
    {
      "cell_type": "markdown",
      "source": [
        "## **Declaring Model Variable**"
      ],
      "metadata": {
        "id": "Hj8Z6gHcCw2W"
      }
    },
    {
      "cell_type": "code",
      "source": [
        "vgg=VGG16(input_shape=(244,244,3),weights='imagenet',include_top=False)\n",
        "\n",
        "\n",
        "\n",
        "for layer in vgg.layers:\n",
        "  layer.trainable=False\n",
        "\n",
        "\n",
        "x=Flatten()(vgg.output)\n",
        "\n",
        "\n",
        "prediction=Dense(3,activation='softmax')(x)\n",
        "\n",
        "\n",
        "model1=Model(inputs=vgg.input,outputs=prediction)\n",
        "model1.summary()"
      ],
      "metadata": {
        "id": "FFRB3027C6Ch"
      },
      "execution_count": null,
      "outputs": []
    },
    {
      "cell_type": "code",
      "source": [
        "model1.compile(loss='categorical_crossentropy',optimizer='adam',metrics=['acc'])"
      ],
      "metadata": {
        "id": "NmlB4vejDE1u"
      },
      "execution_count": null,
      "outputs": []
    },
    {
      "cell_type": "markdown",
      "source": [
        "## **Training model**"
      ],
      "metadata": {
        "id": "25tEls_0DHvd"
      }
    },
    {
      "cell_type": "code",
      "source": [
        "y = model1.fit_generator(\n",
        "    training_set,\n",
        "    validation_data = test_set,\n",
        "    epochs = 25,\n",
        "    steps_per_epoch=979//10,\n",
        "    validation_steps = 171//10\n",
        ")"
      ],
      "metadata": {
        "id": "IO3pfX3mDLDD"
      },
      "execution_count": null,
      "outputs": []
    },
    {
      "cell_type": "code",
      "source": [
        "model1.save('level.h5')"
      ],
      "metadata": {
        "id": "EBydc_oSDO8_"
      },
      "execution_count": null,
      "outputs": []
    },
    {
      "cell_type": "code",
      "source": [
        "!tar -zcvf level.tgz level.h5"
      ],
      "metadata": {
        "id": "gFySqfGKDR8o"
      },
      "execution_count": null,
      "outputs": []
    },
    {
      "cell_type": "code",
      "source": [
        "ls -1 "
      ],
      "metadata": {
        "id": "I-WJ3CJxDVyR"
      },
      "execution_count": null,
      "outputs": []
    },
    {
      "cell_type": "code",
      "source": [
        "model_details = client.repository.store_model(model = 'level.tgz' , meta_props = {\n",
        "    client.repository.ModelMetaNames.NAME : \"level\", \n",
        "    client.repository.ModelMetaNames.TYPE : \"tensorflow_rt22.1\",\n",
        "    client.repository.ModelMetaNames.SOFTWARE_SPEC_UID: software_spec_uid\n",
        "})\n",
        "model_id = client.repository.get_model_id(model_details)"
      ],
      "metadata": {
        "id": "mjQzriKpDY6Y"
      },
      "execution_count": null,
      "outputs": []
    },
    {
      "cell_type": "code",
      "source": [
        "client.repository.download(model_id, 'level_cloud.tar.gz')"
      ],
      "metadata": {
        "id": "Lru-alzuDcWT"
      },
      "execution_count": null,
      "outputs": []
    },
    {
      "cell_type": "code",
      "source": [
        "model_body = load_model('level.h5')"
      ],
      "metadata": {
        "id": "A0-FBdz7Dfj9"
      },
      "execution_count": null,
      "outputs": []
    },
    {
      "cell_type": "code",
      "source": [
        "os.listdir('.')"
      ],
      "metadata": {
        "id": "q_FFAqA2Dh_e"
      },
      "execution_count": null,
      "outputs": []
    },
    {
      "cell_type": "code",
      "source": [
        "client.repository.download('model_id','body_cloud.tar.gz')"
      ],
      "metadata": {
        "id": "opbJctnlDk8j"
      },
      "execution_count": null,
      "outputs": []
    },
    {
      "cell_type": "code",
      "source": [
        "client.repository.download('model1_id','level_cloud.tar.gz')"
      ],
      "metadata": {
        "id": "9b29hYsfDnY4"
      },
      "execution_count": null,
      "outputs": []
    }
  ]
}